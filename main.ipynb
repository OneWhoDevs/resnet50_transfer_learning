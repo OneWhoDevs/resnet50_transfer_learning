{
 "cells": [
  {
   "cell_type": "code",
   "execution_count": 1,
   "id": "f0203583",
   "metadata": {},
   "outputs": [],
   "source": [
    "import tensorflow as tf"
   ]
  },
  {
   "cell_type": "code",
   "execution_count": 2,
   "id": "f84f14a1",
   "metadata": {},
   "outputs": [],
   "source": [
    "import keras\n",
    "from keras.models import Sequential\n",
    "from keras import datasets"
   ]
  },
  {
   "cell_type": "code",
   "execution_count": 3,
   "id": "1c9ceaf9",
   "metadata": {},
   "outputs": [],
   "source": [
    "import numpy as np"
   ]
  },
  {
   "cell_type": "code",
   "execution_count": 4,
   "id": "3ac5b0cf",
   "metadata": {},
   "outputs": [],
   "source": [
    "fashion_mnist=keras.datasets.fashion_mnist"
   ]
  },
  {
   "cell_type": "code",
   "execution_count": 5,
   "id": "e2964c25",
   "metadata": {},
   "outputs": [
    {
     "data": {
      "text/plain": [
       "<module 'keras.datasets.fashion_mnist' from 'C:\\\\Users\\\\Rohan\\\\AppData\\\\Local\\\\Programs\\\\Python\\\\Python310\\\\lib\\\\site-packages\\\\keras\\\\datasets\\\\fashion_mnist.py'>"
      ]
     },
     "execution_count": 5,
     "metadata": {},
     "output_type": "execute_result"
    }
   ],
   "source": [
    "fashion_mnist"
   ]
  },
  {
   "cell_type": "code",
   "execution_count": 6,
   "id": "ad41a4fd",
   "metadata": {},
   "outputs": [],
   "source": [
    "(X_train_pre,Y_train),(X_test_pre,Y_test)=fashion_mnist.load_data()"
   ]
  },
  {
   "cell_type": "code",
   "execution_count": 7,
   "id": "cbf595de",
   "metadata": {},
   "outputs": [
    {
     "data": {
      "text/plain": [
       "(60000, 28, 28)"
      ]
     },
     "execution_count": 7,
     "metadata": {},
     "output_type": "execute_result"
    }
   ],
   "source": [
    "X_train_pre.shape"
   ]
  },
  {
   "cell_type": "code",
   "execution_count": 8,
   "id": "078166cd",
   "metadata": {},
   "outputs": [],
   "source": [
    "#X_train_pre and X_test_pre are set with dimensions as (28,28)"
   ]
  },
  {
   "cell_type": "code",
   "execution_count": 9,
   "id": "f1f21f4c",
   "metadata": {},
   "outputs": [],
   "source": [
    "from matplotlib import pyplot as plt"
   ]
  },
  {
   "cell_type": "code",
   "execution_count": 10,
   "id": "ca41a0e9",
   "metadata": {},
   "outputs": [],
   "source": [
    "import cv2"
   ]
  },
  {
   "cell_type": "code",
   "execution_count": 11,
   "id": "52211ef5",
   "metadata": {},
   "outputs": [],
   "source": [
    "model=Sequential()\n",
    "resnet_layers=tf.keras.applications.ResNet50(\n",
    "    include_top=False, #deletes the input and output layer\n",
    "    weights=\"imagenet\",\n",
    "    input_tensor=None,\n",
    "    input_shape=(32,32,3), \n",
    "    pooling='avg', #not required but preferred\n",
    "    classes=10,#according to yoour need\n",
    "  \n",
    ")\n",
    "for layer in resnet_layers.layers:\n",
    "    layer.trainable=False"
   ]
  },
  {
   "cell_type": "code",
   "execution_count": 12,
   "id": "8c4b2f8c",
   "metadata": {},
   "outputs": [],
   "source": [
    "#minimum input size said to be 32x32"
   ]
  },
  {
   "cell_type": "code",
   "execution_count": 13,
   "id": "3f91ceac",
   "metadata": {},
   "outputs": [],
   "source": [
    "#input size (32,32,3)"
   ]
  },
  {
   "cell_type": "code",
   "execution_count": 14,
   "id": "fa1fa5ef",
   "metadata": {},
   "outputs": [],
   "source": [
    "from keras.layers import Flatten,Dense"
   ]
  },
  {
   "cell_type": "code",
   "execution_count": 15,
   "id": "c7144eef",
   "metadata": {},
   "outputs": [],
   "source": [
    "model.add(resnet_layers)\n",
    "model.add(Flatten())\n",
    "model.add(Dense(512,activation='relu'))\n",
    "model.add(Dense(10,activation='softmax')) #10 classes in fashion_mnist"
   ]
  },
  {
   "cell_type": "code",
   "execution_count": 16,
   "id": "56cf2332",
   "metadata": {},
   "outputs": [
    {
     "name": "stdout",
     "output_type": "stream",
     "text": [
      "Model: \"sequential\"\n",
      "_________________________________________________________________\n",
      " Layer (type)                Output Shape              Param #   \n",
      "=================================================================\n",
      " resnet50 (Functional)       (None, 2048)              23587712  \n",
      "                                                                 \n",
      " flatten (Flatten)           (None, 2048)              0         \n",
      "                                                                 \n",
      " dense (Dense)               (None, 512)               1049088   \n",
      "                                                                 \n",
      " dense_1 (Dense)             (None, 10)                5130      \n",
      "                                                                 \n",
      "=================================================================\n",
      "Total params: 24,641,930\n",
      "Trainable params: 1,054,218\n",
      "Non-trainable params: 23,587,712\n",
      "_________________________________________________________________\n"
     ]
    }
   ],
   "source": [
    "model.summary()"
   ]
  },
  {
   "cell_type": "code",
   "execution_count": 17,
   "id": "48f8401f",
   "metadata": {},
   "outputs": [],
   "source": [
    "#0: T-shirt/top\n",
    "# 1: Trouser\n",
    "# 2: Pullover\n",
    "# 3: Dress\n",
    "# 4: Coat\n",
    "# 5: Sandal\n",
    "# 6: Shirt\n",
    "# 7: Sneaker\n",
    "# 8: Bag\n",
    "# 9: Ankle boot"
   ]
  },
  {
   "cell_type": "code",
   "execution_count": 18,
   "id": "c072a2ab",
   "metadata": {},
   "outputs": [
    {
     "data": {
      "text/plain": [
       "(60000, 28, 28)"
      ]
     },
     "execution_count": 18,
     "metadata": {},
     "output_type": "execute_result"
    }
   ],
   "source": [
    "X_train_pre.shape"
   ]
  },
  {
   "cell_type": "code",
   "execution_count": 19,
   "id": "8fbb6c5b",
   "metadata": {},
   "outputs": [],
   "source": [
    "def pre_process(data):\n",
    "    new_data = np.zeros((data.shape[0],32,32,3)) #data.shape[0] is number of samples\n",
    "    \n",
    "    for i in range(data.shape[0]):\n",
    "        arr=np.array(data[i])\n",
    "        arr=cv2.cvtColor(arr,cv2.COLOR_GRAY2RGB)\n",
    "        arr=cv2.resize(arr, dsize=(32,32))\n",
    "        arr=arr/255\n",
    "        \n",
    "        new_data[i,:,:,:]=arr\n",
    "    \n",
    "    return new_data"
   ]
  },
  {
   "cell_type": "code",
   "execution_count": 20,
   "id": "2ade9b46",
   "metadata": {},
   "outputs": [],
   "source": [
    "#\"pre\" datasets passed into pre_process to get final dataset, done with all the adjustments\n",
    "#any future changes to entire dataset can be done on the function \"pre_process\" itself"
   ]
  },
  {
   "cell_type": "code",
   "execution_count": 21,
   "id": "4799a557",
   "metadata": {},
   "outputs": [],
   "source": [
    "X_train = pre_process(X_train_pre)\n",
    "X_test = pre_process(X_test_pre)"
   ]
  },
  {
   "cell_type": "code",
   "execution_count": 22,
   "id": "2c063392",
   "metadata": {},
   "outputs": [
    {
     "data": {
      "text/plain": [
       "(32, 32, 3)"
      ]
     },
     "execution_count": 22,
     "metadata": {},
     "output_type": "execute_result"
    }
   ],
   "source": [
    "X_train[0].shape"
   ]
  },
  {
   "cell_type": "code",
   "execution_count": 23,
   "id": "04a5045b",
   "metadata": {},
   "outputs": [
    {
     "data": {
      "text/plain": [
       "(60000, 32, 32, 3)"
      ]
     },
     "execution_count": 23,
     "metadata": {},
     "output_type": "execute_result"
    }
   ],
   "source": [
    "X_train.shape"
   ]
  },
  {
   "cell_type": "code",
   "execution_count": 24,
   "id": "8cc9eaec",
   "metadata": {},
   "outputs": [
    {
     "name": "stdout",
     "output_type": "stream",
     "text": [
      "(32, 32, 3)\n"
     ]
    },
    {
     "data": {
      "image/png": "[encoded data removed]",
      "text/plain": [
       "<Figure size 432x288 with 1 Axes>"
      ]
     },
     "metadata": {
      "needs_background": "light"
     },
     "output_type": "display_data"
    }
   ],
   "source": [
    "plt.imshow(np.array(X_train[0]))\n",
    "print(X_train[0].shape)"
   ]
  },
  {
   "cell_type": "code",
   "execution_count": 27,
   "id": "2ccb8def",
   "metadata": {},
   "outputs": [
    {
     "data": {
      "text/plain": [
       "<matplotlib.image.AxesImage at 0x2102517f550>"
      ]
     },
     "execution_count": 27,
     "metadata": {},
     "output_type": "execute_result"
    },
    {
     "data": {
      "image/png": "[encoded data removed]",
      "text/plain": [
       "<Figure size 432x288 with 1 Axes>"
      ]
     },
     "metadata": {
      "needs_background": "light"
     },
     "output_type": "display_data"
    }
   ],
   "source": [
    "np.random.shuffle(X_train)\n",
    "plt.imshow(X_train[0])"
   ]
  },
  {
   "cell_type": "code",
   "execution_count": 50,
   "id": "13646171",
   "metadata": {
    "scrolled": true
   },
   "outputs": [],
   "source": [
    "model.compile(\n",
    "    optimizer=keras.optimizers.Adam(learning_rate=0.001),\n",
    "    loss='sparse_categorical_crossentropy',\n",
    "    metrics=['accuracy'])\n"
   ]
  },
  {
   "cell_type": "code",
   "execution_count": 67,
   "id": "f5c4911c",
   "metadata": {},
   "outputs": [
    {
     "name": "stdout",
     "output_type": "stream",
     "text": [
      "Epoch 1/10\n",
      "250/250 [==============================] - 54s 216ms/step - loss: 0.7917 - accuracy: 0.6981 - val_loss: 0.8537 - val_accuracy: 0.6810\n",
      "Epoch 2/10\n",
      "250/250 [==============================] - 55s 220ms/step - loss: 0.7786 - accuracy: 0.7053 - val_loss: 0.7634 - val_accuracy: 0.7265\n",
      "Epoch 3/10\n",
      "250/250 [==============================] - 55s 219ms/step - loss: 0.7731 - accuracy: 0.7064 - val_loss: 0.7277 - val_accuracy: 0.7315\n",
      "Epoch 4/10\n",
      "250/250 [==============================] - 58s 231ms/step - loss: 0.7562 - accuracy: 0.7166 - val_loss: 0.7118 - val_accuracy: 0.7325\n",
      "Epoch 5/10\n",
      "250/250 [==============================] - 59s 238ms/step - loss: 0.7349 - accuracy: 0.7247 - val_loss: 0.7139 - val_accuracy: 0.7340\n",
      "Epoch 6/10\n",
      "250/250 [==============================] - 51s 204ms/step - loss: 0.7335 - accuracy: 0.7244 - val_loss: 0.7405 - val_accuracy: 0.7305\n",
      "Epoch 7/10\n",
      "250/250 [==============================] - 52s 210ms/step - loss: 0.7323 - accuracy: 0.7294 - val_loss: 0.6803 - val_accuracy: 0.7520\n",
      "Epoch 8/10\n",
      "250/250 [==============================] - 55s 220ms/step - loss: 0.7107 - accuracy: 0.7354 - val_loss: 0.7368 - val_accuracy: 0.7290\n",
      "Epoch 9/10\n",
      "250/250 [==============================] - 58s 232ms/step - loss: 0.7089 - accuracy: 0.7278 - val_loss: 0.7066 - val_accuracy: 0.7460\n",
      "Epoch 10/10\n",
      "250/250 [==============================] - 58s 233ms/step - loss: 0.6956 - accuracy: 0.7396 - val_loss: 0.6953 - val_accuracy: 0.7420\n"
     ]
    },
    {
     "data": {
      "text/plain": [
       "<keras.callbacks.History at 0x2102a000d90>"
      ]
     },
     "execution_count": 67,
     "metadata": {},
     "output_type": "execute_result"
    }
   ],
   "source": [
    "model.fit(\n",
    "    X_test,\n",
    "    Y_test,\n",
    "    batch_size=32,\n",
    "    validation_split = 0.2,\n",
    "    epochs=10)"
   ]
  },
  {
   "cell_type": "code",
   "execution_count": 68,
   "id": "f285f0a9",
   "metadata": {},
   "outputs": [
    {
     "name": "stdout",
     "output_type": "stream",
     "text": [
      "313/313 [==============================] - 59s 189ms/step - loss: 0.6785 - accuracy: 0.7392\n"
     ]
    },
    {
     "data": {
      "text/plain": [
       "[0.6784504652023315, 0.7391999959945679]"
      ]
     },
     "execution_count": 68,
     "metadata": {},
     "output_type": "execute_result"
    }
   ],
   "source": [
    "model.evaluate(X_test,Y_test)"
   ]
  },
  {
   "cell_type": "code",
   "execution_count": 70,
   "id": "880bcece",
   "metadata": {},
   "outputs": [],
   "source": [
    "class_names=[\n",
    "        \"T-shirt/top\",\n",
    "        \"Trouser\",\n",
    "        \"Pullover\",\n",
    "        \"Dress\",\n",
    "        \"Coat\",\n",
    "        \"Sandal\",\n",
    "        \"Shirt\",\n",
    "        \"Sneaker\",\n",
    "        \"Bag\",\n",
    "        \"Ankle boot\"\n",
    "]"
   ]
  },
  {
   "cell_type": "code",
   "execution_count": 76,
   "id": "f9c13811",
   "metadata": {},
   "outputs": [
    {
     "name": "stdout",
     "output_type": "stream",
     "text": [
      "313/313 [==============================] - 54s 172ms/step\n"
     ]
    }
   ],
   "source": [
    "predictions=model.predict(X_test)"
   ]
  },
  {
   "cell_type": "code",
   "execution_count": 79,
   "id": "dd6a32f9",
   "metadata": {},
   "outputs": [
    {
     "name": "stdout",
     "output_type": "stream",
     "text": [
      "model says this is:  Ankle boot\n"
     ]
    },
    {
     "data": {
      "image/png": "[encoded data removed]",
      "text/plain": [
       "<Figure size 432x288 with 1 Axes>"
      ]
     },
     "metadata": {
      "needs_background": "light"
     },
     "output_type": "display_data"
    }
   ],
   "source": [
    "i=0\n",
    "plt.imshow(X_test[i])\n",
    "output=class_names[np.argmax(predictions[i])]\n",
    "print(\"model says this is: \" ,output)"
   ]
  },
  {
   "cell_type": "code",
   "execution_count": 80,
   "id": "2c26912b",
   "metadata": {},
   "outputs": [
    {
     "name": "stdout",
     "output_type": "stream",
     "text": [
      "model says this is:  Trouser\n"
     ]
    },
    {
     "data": {
      "image/png": "[encoded data removed]",
      "text/plain": [
       "<Figure size 432x288 with 1 Axes>"
      ]
     },
     "metadata": {
      "needs_background": "light"
     },
     "output_type": "display_data"
    }
   ],
   "source": [
    "i=5\n",
    "plt.imshow(X_test[i])\n",
    "output=class_names[np.argmax(predictions[i])]\n",
    "print(\"model says this is: \" ,output)"
   ]
  },
  {
   "cell_type": "code",
   "execution_count": 82,
   "id": "951993bf",
   "metadata": {},
   "outputs": [
    {
     "name": "stdout",
     "output_type": "stream",
     "text": [
      "model says this is:  Coat\n"
     ]
    },
    {
     "data": {
      "image/png": "[encoded data removed]",
      "text/plain": [
       "<Figure size 432x288 with 1 Axes>"
      ]
     },
     "metadata": {
      "needs_background": "light"
     },
     "output_type": "display_data"
    }
   ],
   "source": [
    "i=10\n",
    "plt.imshow(X_test[i])\n",
    "output=class_names[np.argmax(predictions[i])]\n",
    "print(\"model says this is: \" ,output)"
   ]
  },
  {
   "cell_type": "code",
   "execution_count": 83,
   "id": "4d909f63",
   "metadata": {},
   "outputs": [
    {
     "name": "stdout",
     "output_type": "stream",
     "text": [
      "model says this is:  Pullover\n"
     ]
    },
    {
     "data": {
      "image/png": "[encoded data removed]",
      "text/plain": [
       "<Figure size 432x288 with 1 Axes>"
      ]
     },
     "metadata": {
      "needs_background": "light"
     },
     "output_type": "display_data"
    }
   ],
   "source": [
    "i=20\n",
    "plt.imshow(X_test[i])\n",
    "output=class_names[np.argmax(predictions[i])]\n",
    "print(\"model says this is: \" ,output)"
   ]
  }
 ],
 "metadata": {
  "kernelspec": {
   "display_name": "Python 3 (ipykernel)",
   "language": "python",
   "name": "python3"
  },
  "language_info": {
   "codemirror_mode": {
    "name": "ipython",
    "version": 3
   },
   "file_extension": ".py",
   "mimetype": "text/x-python",
   "name": "python",
   "nbconvert_exporter": "python",
   "pygments_lexer": "ipython3",
   "version": "3.10.4"
  }
 },
 "nbformat": 4,
 "nbformat_minor": 5
}
